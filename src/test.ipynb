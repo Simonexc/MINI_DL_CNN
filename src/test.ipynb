{
 "cells": [
  {
   "cell_type": "code",
   "execution_count": 1,
   "id": "dfa759ef-98a9-443a-bd39-a49164515260",
   "metadata": {},
   "outputs": [],
   "source": [
    "from torch.utils.data import DataLoader\n",
    "from torchvision.datasets import ImageFolder\n",
    "import torchvision.transforms as transforms\n",
    "import os\n",
    "import wandb\n",
    "\n",
    "\n",
    "DATA_DIR = \"../data\"\n",
    "# magic values from README\n",
    "CINIC_MEAN = [0.47889522, 0.47227842, 0.43047404]\n",
    "CINIC_STD = [0.24205776, 0.23828046, 0.25874835]\n",
    "\n",
    "\n",
    "def load_data():\n",
    "    \n",
    "dataset = ImageFolder(\n",
    "    os.path.join(data_dir, \"train\"),\n",
    "    transform=transforms.ToTensor(),\n",
    ")\n",
    "dataloader = DataLoader(dataset, batch_size=len(dataset), shuffle=False)\n",
    "\n",
    "images, labels = next(iter(dataloader))\n",
    "\n",
    "# Save the tensors to a file\n",
    "torch.save({\"X\": images, \"y\": labels}, 'full_dataset.pt')"
   ]
  },
  {
   "cell_type": "code",
   "execution_count": 2,
   "id": "84740cce-bf5d-4a48-8444-a03bf1a2fc05",
   "metadata": {},
   "outputs": [
    {
     "data": {
      "text/plain": [
       "Dataset ImageFolder\n",
       "    Number of datapoints: 90000\n",
       "    Root location: ../data/train\n",
       "    StandardTransform\n",
       "Transform: Compose(\n",
       "               ToTensor()\n",
       "               Normalize(mean=[0.47889522, 0.47227842, 0.43047404], std=[0.24205776, 0.23828046, 0.25874835])\n",
       "           )"
      ]
     },
     "execution_count": 2,
     "metadata": {},
     "output_type": "execute_result"
    }
   ],
   "source": [
    "cinic_train"
   ]
  },
  {
   "cell_type": "code",
   "execution_count": 3,
   "id": "b04c4f7e-1089-450a-bfb7-5bc8c337cf77",
   "metadata": {},
   "outputs": [],
   "source": [
    "import yaml"
   ]
  },
  {
   "cell_type": "code",
   "execution_count": null,
   "id": "49e13577-0774-4b19-8915-ef79b12a0b2b",
   "metadata": {},
   "outputs": [],
   "source": []
  }
 ],
 "metadata": {
  "kernelspec": {
   "display_name": "Python 3 (ipykernel)",
   "language": "python",
   "name": "python3"
  },
  "language_info": {
   "codemirror_mode": {
    "name": "ipython",
    "version": 3
   },
   "file_extension": ".py",
   "mimetype": "text/x-python",
   "name": "python",
   "nbconvert_exporter": "python",
   "pygments_lexer": "ipython3",
   "version": "3.10.13"
  }
 },
 "nbformat": 4,
 "nbformat_minor": 5
}
