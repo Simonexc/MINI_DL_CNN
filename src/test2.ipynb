{
 "cells": [
  {
   "cell_type": "code",
   "execution_count": 1,
   "id": "initial_id",
   "metadata": {
    "collapsed": true,
    "ExecuteTime": {
     "end_time": "2024-03-12T18:17:54.369361Z",
     "start_time": "2024-03-12T18:17:52.429341Z"
    }
   },
   "outputs": [],
   "source": [
    "import torch\n",
    "from torch.utils.data import DataLoader\n",
    "from torchvision.datasets import ImageFolder\n",
    "import torchvision.transforms as transforms\n",
    "import os\n",
    "import wandb"
   ]
  },
  {
   "cell_type": "code",
   "outputs": [],
   "source": [
    "dataset = ImageFolder(\n",
    "    os.path.join(\"../data\", \"train\"),\n",
    "    transform=transforms.ToTensor(),\n",
    ")\n",
    "dataloader = DataLoader(\n",
    "    dataset, batch_size=10, shuffle=False, num_workers=4\n",
    ")\n",
    "images, labels = next(iter(dataloader))"
   ],
   "metadata": {
    "collapsed": false,
    "ExecuteTime": {
     "end_time": "2024-03-12T18:19:02.024924Z",
     "start_time": "2024-03-12T18:19:01.789812Z"
    }
   },
   "id": "aa8cc634e2c82179",
   "execution_count": 6
  },
  {
   "cell_type": "code",
   "outputs": [
    {
     "data": {
      "text/plain": "torch.Size([10, 3, 32, 32])"
     },
     "execution_count": 7,
     "metadata": {},
     "output_type": "execute_result"
    }
   ],
   "source": [
    "images.shape"
   ],
   "metadata": {
    "collapsed": false,
    "ExecuteTime": {
     "end_time": "2024-03-12T18:19:03.209390Z",
     "start_time": "2024-03-12T18:19:03.205803Z"
    }
   },
   "id": "ff1d648748661051",
   "execution_count": 7
  },
  {
   "cell_type": "code",
   "outputs": [],
   "source": [],
   "metadata": {
    "collapsed": false
   },
   "id": "c45d9f6e8cd078d6"
  }
 ],
 "metadata": {
  "kernelspec": {
   "display_name": "Python 3",
   "language": "python",
   "name": "python3"
  },
  "language_info": {
   "codemirror_mode": {
    "name": "ipython",
    "version": 2
   },
   "file_extension": ".py",
   "mimetype": "text/x-python",
   "name": "python",
   "nbconvert_exporter": "python",
   "pygments_lexer": "ipython2",
   "version": "2.7.6"
  }
 },
 "nbformat": 4,
 "nbformat_minor": 5
}
